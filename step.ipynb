{
 "cells": [
  {
   "cell_type": "markdown",
   "metadata": {},
   "source": [
    "# print Function"
   ]
  },
  {
   "cell_type": "code",
   "execution_count": 2,
   "metadata": {},
   "outputs": [],
   "source": [
    "# print in python is a function which takes arguements and displays in console"
   ]
  },
  {
   "cell_type": "code",
   "execution_count": 3,
   "metadata": {},
   "outputs": [
    {
     "name": "stdout",
     "output_type": "stream",
     "text": [
      "Hello, World!\n",
      "18\n",
      "\n",
      "44\n",
      "the end or it is? keep learninng 3333\n"
     ]
    }
   ],
   "source": [
    "print(\"Hello, World!\")\n",
    "\n",
    "print(3*6)\n",
    "\n",
    "print()\n",
    "\n",
    "print(22+22)\n",
    "\n",
    "print(\"the end\",\"or it is?\",\"keep learninng\",3333)"
   ]
  },
  {
   "cell_type": "markdown",
   "metadata": {},
   "source": [
    "# Strings"
   ]
  },
  {
   "cell_type": "code",
   "execution_count": 4,
   "metadata": {},
   "outputs": [
    {
     "name": "stdout",
     "output_type": "stream",
     "text": [
      "python is fun\n",
      "is python fun?\n",
      "strings are python's \n",
      "\"Quotes\"\n"
     ]
    }
   ],
   "source": [
    "# Different ways to print strings\n",
    "print(\"python is fun\")\n",
    "print('is python fun?')\n",
    "print(\"strings are python's \")\n",
    "print('\"Quotes\"')"
   ]
  },
  {
   "cell_type": "code",
   "execution_count": 5,
   "metadata": {},
   "outputs": [
    {
     "name": "stdout",
     "output_type": "stream",
     "text": [
      "HelloGoutham\n",
      "good morning mister gmr27\n"
     ]
    }
   ],
   "source": [
    "# String concatenate\n",
    "# use + symbol\n",
    "print(\"Hello\"+ \"Goutham\")\n",
    "greet=\"good morning mister\"\n",
    "name=\"gmr27\"\n",
    "print(greet+\" \"+name)"
   ]
  },
  {
   "cell_type": "markdown",
   "metadata": {},
   "source": [
    "# Escape charecter"
   ]
  },
  {
   "cell_type": "code",
   "execution_count": 6,
   "metadata": {},
   "outputs": [
    {
     "name": "stdout",
     "output_type": "stream",
     "text": [
      "This string has been \n",
      "split over \n",
      "several \n",
      "lines\n"
     ]
    }
   ],
   "source": [
    "splitString= \"This string has been \\nsplit over \\nseveral \\nlines\"\n",
    "print(splitString)"
   ]
  },
  {
   "cell_type": "code",
   "execution_count": 7,
   "metadata": {},
   "outputs": [
    {
     "name": "stdout",
     "output_type": "stream",
     "text": [
      "1\t2\t3\t4\t5\n"
     ]
    }
   ],
   "source": [
    "tabbedString=\"1\\t2\\t3\\t4\\t5\"\n",
    "print(tabbedString)"
   ]
  },
  {
   "cell_type": "code",
   "execution_count": 8,
   "metadata": {},
   "outputs": [
    {
     "name": "stdout",
     "output_type": "stream",
     "text": [
      "this string has been\n",
      "split over\n",
      "n several\n",
      "lines\n"
     ]
    }
   ],
   "source": [
    "another=\"\"\"this string has been\n",
    "split over\n",
    "n several\n",
    "lines\"\"\"\n",
    "print(another)"
   ]
  },
  {
   "cell_type": "code",
   "execution_count": 10,
   "metadata": {},
   "outputs": [
    {
     "name": "stdout",
     "output_type": "stream",
     "text": [
      "Number 1\tHorse\n"
     ]
    }
   ],
   "source": [
    "print(\"Number 1\\tHorse\")"
   ]
  },
  {
   "cell_type": "code",
   "execution_count": 11,
   "metadata": {},
   "outputs": [
    {
     "name": "stdout",
     "output_type": "stream",
     "text": [
      "Hello how are u  iam fine\n"
     ]
    }
   ],
   "source": [
    "print(\"Hello how are u \\\n",
    " iam fine\")"
   ]
  },
  {
   "cell_type": "code",
   "execution_count": 13,
   "metadata": {},
   "outputs": [
    {
     "name": "stdout",
     "output_type": "stream",
     "text": [
      "C:\\users\\timbulc\\notes.txt\n"
     ]
    }
   ],
   "source": [
    "# How to use \\ in python print\n",
    "print(\"C:\\\\users\\\\timbulc\\\\notes.txt\")"
   ]
  },
  {
   "cell_type": "code",
   "execution_count": 15,
   "metadata": {},
   "outputs": [
    {
     "name": "stdout",
     "output_type": "stream",
     "text": [
      "C:\\users\\timbulc\\notes.txt\n"
     ]
    }
   ],
   "source": [
    "# Raw String\n",
    "print(r\"C:\\users\\timbulc\\notes.txt\")"
   ]
  },
  {
   "cell_type": "code",
   "execution_count": null,
   "metadata": {},
   "outputs": [],
   "source": []
  }
 ],
 "metadata": {
  "kernelspec": {
   "display_name": "Python 3",
   "language": "python",
   "name": "python3"
  },
  "language_info": {
   "codemirror_mode": {
    "name": "ipython",
    "version": 3
   },
   "file_extension": ".py",
   "mimetype": "text/x-python",
   "name": "python",
   "nbconvert_exporter": "python",
   "pygments_lexer": "ipython3",
   "version": "3.7.6"
  }
 },
 "nbformat": 4,
 "nbformat_minor": 4
}
