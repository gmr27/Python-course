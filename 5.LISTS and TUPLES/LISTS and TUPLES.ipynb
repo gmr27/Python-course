{
 "cells": [
  {
   "cell_type": "markdown",
   "metadata": {},
   "source": [
    "# Sequence types"
   ]
  },
  {
   "cell_type": "raw",
   "metadata": {},
   "source": [
    "list tuple range\n",
    "A sequence is an ordered collection of items\n",
    "Ordered-could refer to individual item by their index position\n",
    "All Sequences are iterables\n",
    "but all iterables are not sequences"
   ]
  },
  {
   "cell_type": "markdown",
   "metadata": {},
   "source": [
    "# LISTS"
   ]
  },
  {
   "cell_type": "code",
   "execution_count": 2,
   "metadata": {},
   "outputs": [
    {
     "name": "stdout",
     "output_type": "stream",
     "text": [
      "computer\n",
      "monitor\n",
      "keyboard\n",
      "mouse\n",
      "mat\n",
      "['computer', 'monitor', 'keyboard', 'mouse', 'mat']\n",
      "mat\n"
     ]
    }
   ],
   "source": [
    "parts=[\"computer\",\n",
    "       \"monitor\",\n",
    "       \"keyboard\",\n",
    "       \"mouse\",\n",
    "       \"mat\"\n",
    "       ]\n",
    "for part in parts:\n",
    "    print(part)\n",
    "print(parts) \n",
    "print(parts[-1]) # can accessible like strings"
   ]
  },
  {
   "cell_type": "markdown",
   "metadata": {},
   "source": [
    "# Immutable objects"
   ]
  },
  {
   "cell_type": "raw",
   "metadata": {},
   "source": [
    "# That cannot be changed\n",
    "int    float  bool  str  tuple  frozenset   bytes\n",
    "when u modify them id changes\n"
   ]
  },
  {
   "cell_type": "markdown",
   "metadata": {},
   "source": [
    "# Mutable Objects"
   ]
  },
  {
   "cell_type": "code",
   "execution_count": 4,
   "metadata": {},
   "outputs": [
    {
     "name": "stdout",
     "output_type": "stream",
     "text": [
      "computer\n",
      "monitor\n",
      "keyboard\n",
      "mouse\n",
      "mat\n",
      "2423706888392\n",
      "2423706888392\n",
      "['computer', 'monitor', 'keyboard', 'mouse', 'mat', 'pen drive']\n",
      "2423706888392\n",
      "2423706888392\n"
     ]
    }
   ],
   "source": [
    "#A mutable object is one whose value can be changed\n",
    "#list   dict   set  bytearray\n",
    "\n",
    "parts=[\"computer\",\n",
    "       \"monitor\",\n",
    "       \"keyboard\",\n",
    "       \"mouse\",\n",
    "       \"mat\"\n",
    "       ]\n",
    "for part in parts:\n",
    "    print(part)\n",
    "parts2=parts\n",
    "print(id(parts))\n",
    "print(id(parts2))    \n",
    "\n",
    "parts+=[\"pen drive\"]\n",
    "print(parts)\n",
    "print(id(parts))\n",
    "print(id(parts2))    \n",
    "# they have same id"
   ]
  },
  {
   "cell_type": "code",
   "execution_count": 6,
   "metadata": {},
   "outputs": [
    {
     "name": "stdout",
     "output_type": "stream",
     "text": [
      "['computer', 'monitor', 'keyboard', 'mouse', 'mat', 'pen drive', 'cd']\n",
      "['computer', 'monitor', 'keyboard', 'mouse', 'mat', 'pen drive', 'cd', 'cd']\n",
      "['computer', 'monitor', 'keyboard', 'mouse', 'mat', 'pen drive', 'cd', 'cd', 'cables']\n"
     ]
    }
   ],
   "source": [
    "# we can bind multiple names to list\n",
    "a=b=c=d=parts\n",
    "print(a)\n",
    "# Add a CD to list\n",
    "parts+=[\"cd\"]\n",
    "print(b)\n",
    "c+=[\"cables\"]\n",
    "print(parts)"
   ]
  },
  {
   "cell_type": "markdown",
   "metadata": {},
   "source": [
    "# common sequence operations"
   ]
  },
  {
   "cell_type": "code",
   "execution_count": 1,
   "metadata": {},
   "outputs": [
    {
     "name": "stdout",
     "output_type": "stream",
     "text": [
      "1\n",
      "4\n"
     ]
    }
   ],
   "source": [
    "even=[2,4,6,8]\n",
    "odd=[1,3,5,7,9]\n",
    "print(min(odd))\n",
    "print(\"mississippi\".count(\"s\"))"
   ]
  },
  {
   "cell_type": "markdown",
   "metadata": {},
   "source": [
    "# Operations on mutable sequences"
   ]
  },
  {
   "cell_type": "raw",
   "metadata": {},
   "source": [
    "Method is same as function , except that its bound to an object\n",
    "that means we need an object, in order to call the method\n",
    "min,max,len--------functions we used previously\n",
    "s.append(x)------method/dot notation\n",
    "S= object\n",
    "append=method \n",
    "x=arguement"
   ]
  },
  {
   "cell_type": "code",
   "execution_count": 2,
   "metadata": {},
   "outputs": [
    {
     "name": "stdout",
     "output_type": "stream",
     "text": [
      "[2, 4, 6, 8, 10]\n"
     ]
    }
   ],
   "source": [
    "even=[2,4,6,8]\n",
    "even.append(10)\n",
    "print(even)"
   ]
  },
  {
   "cell_type": "markdown",
   "metadata": {},
   "source": [
    "# Appending to a list"
   ]
  },
  {
   "cell_type": "code",
   "execution_count": null,
   "metadata": {},
   "outputs": [],
   "source": [
    "current_choice=\"-\"\n",
    "parts=[]\n",
    "while current_choice!=0:\n",
    "    if current_choice in \"12345\":\n",
    "        print(f\"Adding {current_choice}\")\n",
    "    else:\n",
    "        print(\"please add options from the list below    :\")\n",
    "        print(\"1.Computer\")\n",
    "        print(\"2.monitor\")\n",
    "        print(\"3.keyboard\")\n",
    "        print(\"4.mouse\")\n",
    "        print(\"5.mat\")"
   ]
  }
 ],
 "metadata": {
  "kernelspec": {
   "display_name": "Python 3",
   "language": "python",
   "name": "python3"
  },
  "language_info": {
   "codemirror_mode": {
    "name": "ipython",
    "version": 3
   },
   "file_extension": ".py",
   "mimetype": "text/x-python",
   "name": "python",
   "nbconvert_exporter": "python",
   "pygments_lexer": "ipython3",
   "version": "3.7.6"
  }
 },
 "nbformat": 4,
 "nbformat_minor": 4
}
