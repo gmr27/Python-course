{
 "cells": [
  {
   "cell_type": "markdown",
   "metadata": {},
   "source": [
    "# print Function"
   ]
  },
  {
   "cell_type": "code",
   "execution_count": 2,
   "metadata": {},
   "outputs": [],
   "source": [
    "# print in python is a function which takes arguements and displays in console"
   ]
  },
  {
   "cell_type": "code",
   "execution_count": 3,
   "metadata": {},
   "outputs": [
    {
     "name": "stdout",
     "output_type": "stream",
     "text": [
      "Hello, World!\n",
      "18\n",
      "\n",
      "44\n",
      "the end or it is? keep learninng 3333\n"
     ]
    }
   ],
   "source": [
    "print(\"Hello, World!\")\n",
    "\n",
    "print(3*6)\n",
    "\n",
    "print()\n",
    "\n",
    "print(22+22)\n",
    "\n",
    "print(\"the end\",\"or it is?\",\"keep learninng\",3333)"
   ]
  },
  {
   "cell_type": "markdown",
   "metadata": {},
   "source": [
    "# Strings"
   ]
  },
  {
   "cell_type": "code",
   "execution_count": 4,
   "metadata": {},
   "outputs": [
    {
     "name": "stdout",
     "output_type": "stream",
     "text": [
      "python is fun\n",
      "is python fun?\n",
      "strings are python's \n",
      "\"Quotes\"\n"
     ]
    }
   ],
   "source": [
    "# Different ways to print strings\n",
    "print(\"python is fun\")\n",
    "print('is python fun?')\n",
    "print(\"strings are python's \")\n",
    "print('\"Quotes\"')"
   ]
  },
  {
   "cell_type": "code",
   "execution_count": 5,
   "metadata": {},
   "outputs": [
    {
     "name": "stdout",
     "output_type": "stream",
     "text": [
      "HelloGoutham\n",
      "good morning mister gmr27\n"
     ]
    }
   ],
   "source": [
    "# String concatenate\n",
    "# use + symbol\n",
    "print(\"Hello\"+ \"Goutham\")\n",
    "greet=\"good morning mister\"\n",
    "name=\"gmr27\"\n",
    "print(greet+\" \"+name)"
   ]
  },
  {
   "cell_type": "markdown",
   "metadata": {},
   "source": [
    "# Escape charecter"
   ]
  },
  {
   "cell_type": "code",
   "execution_count": 6,
   "metadata": {},
   "outputs": [
    {
     "name": "stdout",
     "output_type": "stream",
     "text": [
      "This string has been \n",
      "split over \n",
      "several \n",
      "lines\n"
     ]
    }
   ],
   "source": [
    "splitString= \"This string has been \\nsplit over \\nseveral \\nlines\"\n",
    "print(splitString)"
   ]
  },
  {
   "cell_type": "code",
   "execution_count": 7,
   "metadata": {},
   "outputs": [
    {
     "name": "stdout",
     "output_type": "stream",
     "text": [
      "1\t2\t3\t4\t5\n"
     ]
    }
   ],
   "source": [
    "tabbedString=\"1\\t2\\t3\\t4\\t5\"\n",
    "print(tabbedString)"
   ]
  },
  {
   "cell_type": "code",
   "execution_count": 8,
   "metadata": {},
   "outputs": [
    {
     "name": "stdout",
     "output_type": "stream",
     "text": [
      "this string has been\n",
      "split over\n",
      "n several\n",
      "lines\n"
     ]
    }
   ],
   "source": [
    "another=\"\"\"this string has been\n",
    "split over\n",
    "n several\n",
    "lines\"\"\"\n",
    "print(another)"
   ]
  },
  {
   "cell_type": "code",
   "execution_count": 10,
   "metadata": {},
   "outputs": [
    {
     "name": "stdout",
     "output_type": "stream",
     "text": [
      "Number 1\tHorse\n"
     ]
    }
   ],
   "source": [
    "print(\"Number 1\\tHorse\")"
   ]
  },
  {
   "cell_type": "code",
   "execution_count": 11,
   "metadata": {},
   "outputs": [
    {
     "name": "stdout",
     "output_type": "stream",
     "text": [
      "Hello how are u  iam fine\n"
     ]
    }
   ],
   "source": [
    "print(\"Hello how are u \\\n",
    " iam fine\")"
   ]
  },
  {
   "cell_type": "code",
   "execution_count": 13,
   "metadata": {},
   "outputs": [
    {
     "name": "stdout",
     "output_type": "stream",
     "text": [
      "C:\\users\\timbulc\\notes.txt\n"
     ]
    }
   ],
   "source": [
    "# How to use \\ in python print\n",
    "print(\"C:\\\\users\\\\timbulc\\\\notes.txt\")"
   ]
  },
  {
   "cell_type": "code",
   "execution_count": 15,
   "metadata": {},
   "outputs": [
    {
     "name": "stdout",
     "output_type": "stream",
     "text": [
      "C:\\users\\timbulc\\notes.txt\n"
     ]
    }
   ],
   "source": [
    "# Raw String\n",
    "print(r\"C:\\users\\timbulc\\notes.txt\")"
   ]
  },
  {
   "cell_type": "markdown",
   "metadata": {},
   "source": [
    "# VARIABLES AND TYPES"
   ]
  },
  {
   "cell_type": "code",
   "execution_count": 2,
   "metadata": {},
   "outputs": [
    {
     "name": "stdout",
     "output_type": "stream",
     "text": [
      "24\n",
      "<class 'int'>\n"
     ]
    }
   ],
   "source": [
    "# Python allocates area of memory for us , and python also knows the type of variable \n",
    "#Few rules for variable names\n",
    "#1.Must begin with letter or underscore\n",
    "#2.They can contain letters,numbers,underscore(cannot begin with number)\n",
    "#3.Case sensitive\n",
    "#4.Attached with Symbol =\n",
    "age=24\n",
    "print(age)\n",
    "\n",
    "print(type(age))"
   ]
  },
  {
   "cell_type": "markdown",
   "metadata": {},
   "source": [
    "# Python is strongly typed language"
   ]
  },
  {
   "cell_type": "code",
   "execution_count": 3,
   "metadata": {},
   "outputs": [],
   "source": [
    "#python allows to re use the variables\n"
   ]
  },
  {
   "cell_type": "markdown",
   "metadata": {},
   "source": [
    "# Numeric Data types"
   ]
  },
  {
   "cell_type": "code",
   "execution_count": 4,
   "metadata": {},
   "outputs": [],
   "source": [
    "# Python has several built-in data types that can be classed as:\n",
    "# Numeric  Iterator   Sequence   Mapping  File   Class Exception\n",
    "# Numeric :- int , float , complex\n",
    "# Python doesnot have type declarations\n"
   ]
  },
  {
   "cell_type": "markdown",
   "metadata": {},
   "source": [
    "# Numeric operators"
   ]
  },
  {
   "cell_type": "code",
   "execution_count": 1,
   "metadata": {},
   "outputs": [
    {
     "name": "stdout",
     "output_type": "stream",
     "text": [
      "4.0\n",
      "4\n",
      "0\n"
     ]
    }
   ],
   "source": [
    "a=12\n",
    "b=3\n",
    "print(a/b)    #4.0\n",
    "print(a//b)    #4\n",
    "print(a%b)     #0 remainder after integer division"
   ]
  },
  {
   "cell_type": "code",
   "execution_count": 3,
   "metadata": {},
   "outputs": [
    {
     "name": "stdout",
     "output_type": "stream",
     "text": [
      "0\n",
      "1\n",
      "2\n",
      "3\n"
     ]
    }
   ],
   "source": [
    "for i in range (0,a//b):  # python takes starting value but neglects ending value\n",
    "    print(i)"
   ]
  },
  {
   "cell_type": "markdown",
   "metadata": {},
   "source": [
    "# Operator Precedence"
   ]
  },
  {
   "cell_type": "code",
   "execution_count": 5,
   "metadata": {},
   "outputs": [
    {
     "name": "stdout",
     "output_type": "stream",
     "text": [
      "-44.0\n"
     ]
    }
   ],
   "source": [
    "print((9+3)/3-4*12)\n",
    "#/>*>+>         BEDMAS BODMAS BIDMAS\n",
    "#Addition and subtraction has same precedence"
   ]
  },
  {
   "cell_type": "markdown",
   "metadata": {},
   "source": [
    "# String Data type"
   ]
  },
  {
   "cell_type": "code",
   "execution_count": 10,
   "metadata": {},
   "outputs": [
    {
     "name": "stdout",
     "output_type": "stream",
     "text": [
      "Norwegian Blue\n",
      "w\n"
     ]
    }
   ],
   "source": [
    "# one of sequence data type of python\n",
    "parrot=\"Norwegian Blue\"\n",
    "print(parrot)\n",
    "print(parrot[3])   # counts from 0 (Zero) using index"
   ]
  },
  {
   "cell_type": "code",
   "execution_count": 11,
   "metadata": {},
   "outputs": [
    {
     "name": "stdout",
     "output_type": "stream",
     "text": [
      "w\n",
      "e\n",
      " \n",
      "w\n",
      "i\n",
      "n\n"
     ]
    }
   ],
   "source": [
    "# mini challenge\n",
    "# add some code to print \"we win\"\n",
    "# each charecter should apply in separate line\n",
    "#The program should get the charecters fro parrot string using index\n",
    "print(parrot[3])\n",
    "print(parrot[4])\n",
    "print(parrot[9])\n",
    "print(parrot[3])\n",
    "print(parrot[6])\n",
    "print(parrot[8])"
   ]
  },
  {
   "cell_type": "code",
   "execution_count": 12,
   "metadata": {},
   "outputs": [
    {
     "name": "stdout",
     "output_type": "stream",
     "text": [
      "e\n",
      "N\n"
     ]
    }
   ],
   "source": [
    "print(parrot[-1])\n",
    "print(parrot[-14])"
   ]
  },
  {
   "cell_type": "code",
   "execution_count": 13,
   "metadata": {},
   "outputs": [
    {
     "name": "stdout",
     "output_type": "stream",
     "text": [
      "14\n"
     ]
    }
   ],
   "source": [
    "print(len(parrot))"
   ]
  },
  {
   "cell_type": "code",
   "execution_count": 16,
   "metadata": {},
   "outputs": [
    {
     "name": "stdout",
     "output_type": "stream",
     "text": [
      "e\n",
      "u\n",
      "l\n",
      "B\n",
      " \n",
      "n\n",
      "a\n",
      "i\n",
      "g\n",
      "e\n",
      "w\n",
      "r\n",
      "o\n",
      "N\n"
     ]
    }
   ],
   "source": [
    "for i in range (0,len(parrot)):\n",
    "    print(parrot[len(parrot)-i-1])"
   ]
  },
  {
   "cell_type": "markdown",
   "metadata": {},
   "source": [
    "# Slicing"
   ]
  },
  {
   "cell_type": "code",
   "execution_count": 25,
   "metadata": {},
   "outputs": [
    {
     "name": "stdout",
     "output_type": "stream",
     "text": [
      "Norweg\n",
      "we\n",
      "ian Blue\n",
      "Norweg\n",
      "Blue\n",
      "Norwegian Blue\n"
     ]
    }
   ],
   "source": [
    "#(Start,Stop,Skip)\n",
    "print(parrot[0:6]) # last index doesnot included - upto but not included stop\n",
    "print(parrot[3:5])\n",
    "print(parrot[6:])\n",
    "print(parrot[:6])\n",
    "print(parrot[10:14])\n",
    "print(parrot[:7]+parrot[7:])\n"
   ]
  },
  {
   "cell_type": "code",
   "execution_count": 27,
   "metadata": {},
   "outputs": [
    {
     "name": "stdout",
     "output_type": "stream",
     "text": [
      "Bl\n",
      "Norweg\n"
     ]
    }
   ],
   "source": [
    "# Negative slicing\n",
    "print(parrot[-4:-2])\n",
    "print(parrot[-14:-8])"
   ]
  },
  {
   "cell_type": "code",
   "execution_count": 28,
   "metadata": {},
   "outputs": [
    {
     "name": "stdout",
     "output_type": "stream",
     "text": [
      "eulB naigewroN\n"
     ]
    }
   ],
   "source": [
    "print(parrot[-1:-15:-1])"
   ]
  },
  {
   "cell_type": "code",
   "execution_count": 30,
   "metadata": {},
   "outputs": [
    {
     "name": "stdout",
     "output_type": "stream",
     "text": [
      "Nre\n",
      "Nw\n"
     ]
    }
   ],
   "source": [
    "# Using Step in slicing\n",
    "print(parrot[0:6:2])\n",
    "print(parrot[0:6:3])"
   ]
  },
  {
   "cell_type": "code",
   "execution_count": 31,
   "metadata": {},
   "outputs": [
    {
     "name": "stdout",
     "output_type": "stream",
     "text": [
      ",,,,,,\n"
     ]
    }
   ],
   "source": [
    "number=\"9,223,372,036,854,775,807\"\n",
    "print(number[1::4])"
   ]
  },
  {
   "cell_type": "code",
   "execution_count": 42,
   "metadata": {},
   "outputs": [
    {
     "name": "stdout",
     "output_type": "stream",
     "text": [
      ",;: ,;\n"
     ]
    },
    {
     "data": {
      "text/plain": [
       "str"
      ]
     },
     "execution_count": 42,
     "metadata": {},
     "output_type": "execute_result"
    }
   ],
   "source": [
    "num2=\"9,223;372:036 854,775;807\"\n",
    "seperators=num2[1::4]\n",
    "print(seperators)\n",
    "type(seperators)"
   ]
  },
  {
   "cell_type": "code",
   "execution_count": 34,
   "metadata": {},
   "outputs": [
    {
     "name": "stdout",
     "output_type": "stream",
     "text": [
      "[9, 223, 372, 36, 854, 775, 807]\n"
     ]
    }
   ],
   "source": [
    "values=\"\".join(char if char not in seperators else \" \" for char in num2).split()\n",
    "print([int(val) for val in values])"
   ]
  },
  {
   "cell_type": "code",
   "execution_count": 43,
   "metadata": {},
   "outputs": [
    {
     "name": "stdout",
     "output_type": "stream",
     "text": [
      ",:><\n"
     ]
    }
   ],
   "source": [
    "src=\"hello,123,gdh:h2>fgd<5gh\"\n",
    "seps=(\",:><\")\n",
    "print(seps)"
   ]
  },
  {
   "cell_type": "code",
   "execution_count": 44,
   "metadata": {},
   "outputs": [
    {
     "name": "stdout",
     "output_type": "stream",
     "text": [
      "['hello', '123', 'gdh', 'h2', 'fgd', '5gh']\n"
     ]
    }
   ],
   "source": [
    "strings=\"\".join(char if char not in seps else \" \" for char in src).split()\n",
    "print([string for string in strings])"
   ]
  },
  {
   "cell_type": "code",
   "execution_count": 47,
   "metadata": {},
   "outputs": [
    {
     "name": "stdout",
     "output_type": "stream",
     "text": [
      "hello 123 gdh h2 fgd 5gh\n"
     ]
    }
   ],
   "source": [
    "strings=\"\".join(char if char not in seps else \" \" for char in src)\n",
    "print(strings)"
   ]
  },
  {
   "cell_type": "markdown",
   "metadata": {},
   "source": [
    "# Slicing backwards"
   ]
  },
  {
   "cell_type": "code",
   "execution_count": 1,
   "metadata": {},
   "outputs": [
    {
     "name": "stdout",
     "output_type": "stream",
     "text": [
      "26\n",
      "zyxwvutsrqponmlkjihgfedcba\n",
      "zyxwvutsrqponmlkjihgfedcb\n",
      "zyxwvutsrqponmlkjihgfedcba\n",
      "qpo\n",
      "edcba\n",
      "zyxwvuts\n",
      "zyxwvuts\n"
     ]
    }
   ],
   "source": [
    "letters=\"abcdefghijklmnopqrstuvwxyz\"\n",
    "print(len(letters))\n",
    "backwards=letters[::-1]\n",
    "print(backwards)\n",
    "print(letters[25:0:-1])   # a will not be printed\n",
    "print(letters[25::-1])\n",
    "print(letters[16:13:-1])\n",
    "print(letters[4::-1])\n",
    "print(letters[26:-9:-1])\n",
    "print(letters[-1:-9:-1])"
   ]
  },
  {
   "cell_type": "code",
   "execution_count": 4,
   "metadata": {},
   "outputs": [
    {
     "name": "stdout",
     "output_type": "stream",
     "text": [
      "zyxwvutsrqponmlkjihgfedcba\n",
      "wxyz\n",
      "z\n",
      "a\n",
      "a\n"
     ]
    }
   ],
   "source": [
    "# idioms\n",
    "print(letters[::-1])   # prints reverse order/backwards\n",
    "print(letters[-4:])    # prints last four letters\n",
    "print(letters[-1:])     # prints last letter\n",
    "print(letters[:1])       # prints 1st letter\n",
    "print(letters[0])        #prints 1st letter but error in null string"
   ]
  },
  {
   "cell_type": "markdown",
   "metadata": {},
   "source": [
    "# String operators"
   ]
  },
  {
   "cell_type": "code",
   "execution_count": 5,
   "metadata": {},
   "outputs": [
    {
     "data": {
      "text/plain": [
       "'m'"
      ]
     },
     "execution_count": 5,
     "metadata": {},
     "output_type": "execute_result"
    }
   ],
   "source": [
    "# there are 5 sequence types in python\n",
    "# 1.strings 2.lists 3.Tuple 4.Range 5.Byte & Byte range\n",
    "# list is sequence of strings which are sequence\n",
    "parts=[\"cpu\",\"monitor\",\"mouse\",\"keyboard\"]\n",
    "parts[2][0]"
   ]
  },
  {
   "cell_type": "code",
   "execution_count": 6,
   "metadata": {},
   "outputs": [
    {
     "name": "stdout",
     "output_type": "stream",
     "text": [
      "he isprobabilyplanning\n",
      "hellohellohellohellohello\n",
      "hellohellohellohellohello4\n",
      "True\n",
      "False\n"
     ]
    }
   ],
   "source": [
    "#str seq operators\n",
    "s1=\"he is\"\n",
    "s2=\"probabily\"\n",
    "s3=\"planning\"\n",
    "print(s1+s2+s3)\n",
    "print(\"hello\"*5)\n",
    "print(\"hello\"*5+\"4\")\n",
    "today=\"friday\"\n",
    "print(\"fri\"in today)\n",
    "print(\"sun\"in today)"
   ]
  },
  {
   "cell_type": "markdown",
   "metadata": {},
   "source": [
    "# String replacement fields"
   ]
  },
  {
   "cell_type": "code",
   "execution_count": 1,
   "metadata": {},
   "outputs": [
    {
     "name": "stdout",
     "output_type": "stream",
     "text": [
      "Hello gm you are 24 years old\n"
     ]
    }
   ],
   "source": [
    "# every data type in python can be converted in to string type\n",
    "age=24\n",
    "print(\"Hello gm you are \"+str(age)+\" years old\")"
   ]
  },
  {
   "cell_type": "code",
   "execution_count": 2,
   "metadata": {},
   "outputs": [
    {
     "name": "stdout",
     "output_type": "stream",
     "text": [
      "my age is 24 years\n"
     ]
    }
   ],
   "source": [
    "print(\"my age is {0} years\".format(age))"
   ]
  },
  {
   "cell_type": "code",
   "execution_count": 5,
   "metadata": {},
   "outputs": [
    {
     "name": "stdout",
     "output_type": "stream",
     "text": [
      "there jan has 31 \n",
      " feb has 28 \n",
      " mar has 31 \n",
      " apr has 30 \n",
      " may has 31\n"
     ]
    }
   ],
   "source": [
    "print(\"there jan has {0} \\n feb has {1} \\n mar has {0} \\n apr has {2} \\n may has {0}\".format(31,28,30))"
   ]
  },
  {
   "cell_type": "markdown",
   "metadata": {},
   "source": [
    "# String formatting"
   ]
  },
  {
   "cell_type": "code",
   "execution_count": 9,
   "metadata": {},
   "outputs": [
    {
     "name": "stdout",
     "output_type": "stream",
     "text": [
      " the number is  0 whose squared is   0 and cubed is    0\n",
      " the number is  1 whose squared is   1 and cubed is    1\n",
      " the number is  2 whose squared is   4 and cubed is    8\n",
      " the number is  3 whose squared is   9 and cubed is   27\n",
      " the number is  4 whose squared is  16 and cubed is   64\n",
      " the number is  5 whose squared is  25 and cubed is  125\n",
      " the number is  6 whose squared is  36 and cubed is  216\n",
      " the number is  7 whose squared is  49 and cubed is  343\n",
      " the number is  8 whose squared is  64 and cubed is  512\n",
      " the number is  9 whose squared is  81 and cubed is  729\n",
      " the number is 10 whose squared is 100 and cubed is 1000\n",
      " the number is 11 whose squared is 121 and cubed is 1331\n",
      " the number is 12 whose squared is 144 and cubed is 1728\n"
     ]
    }
   ],
   "source": [
    "# < left allignment\n",
    "#> right \n",
    "#^ centre\n",
    "# :number =width\n",
    "for i in range(13):\n",
    "    print(f\" the number is {i:2} whose squared is {i**2:3} and cubed is {i**3:4}\")"
   ]
  },
  {
   "cell_type": "code",
   "execution_count": 10,
   "metadata": {},
   "outputs": [
    {
     "name": "stdout",
     "output_type": "stream",
     "text": [
      " the number is 0  whose squared is  0  and cubed is  0  \n",
      " the number is 1  whose squared is  1  and cubed is  1  \n",
      " the number is 2  whose squared is  4  and cubed is  8  \n",
      " the number is 3  whose squared is  9  and cubed is  27 \n",
      " the number is 4  whose squared is 16  and cubed is  64 \n",
      " the number is 5  whose squared is 25  and cubed is 125 \n",
      " the number is 6  whose squared is 36  and cubed is 216 \n",
      " the number is 7  whose squared is 49  and cubed is 343 \n",
      " the number is 8  whose squared is 64  and cubed is 512 \n",
      " the number is 9  whose squared is 81  and cubed is 729 \n",
      " the number is 10 whose squared is 100 and cubed is 1000\n",
      " the number is 11 whose squared is 121 and cubed is 1331\n",
      " the number is 12 whose squared is 144 and cubed is 1728\n"
     ]
    }
   ],
   "source": [
    "for i in range(13):\n",
    "    print(f\" the number is {i:^2} whose squared is {i**2:^3} and cubed is {i**3:^4}\")"
   ]
  },
  {
   "cell_type": "code",
   "execution_count": null,
   "metadata": {},
   "outputs": [],
   "source": []
  }
 ],
 "metadata": {
  "kernelspec": {
   "display_name": "Python 3",
   "language": "python",
   "name": "python3"
  },
  "language_info": {
   "codemirror_mode": {
    "name": "ipython",
    "version": 3
   },
   "file_extension": ".py",
   "mimetype": "text/x-python",
   "name": "python",
   "nbconvert_exporter": "python",
   "pygments_lexer": "ipython3",
   "version": "3.7.6"
  }
 },
 "nbformat": 4,
 "nbformat_minor": 4
}
