{
 "cells": [
  {
   "cell_type": "code",
   "execution_count": 1,
   "metadata": {},
   "outputs": [],
   "source": [
    "# Update from Office file"
   ]
  },
  {
   "cell_type": "markdown",
   "metadata": {},
   "source": [
    "# Elif "
   ]
  },
  {
   "cell_type": "code",
   "execution_count": 2,
   "metadata": {},
   "outputs": [
    {
     "name": "stdout",
     "output_type": "stream",
     "text": [
      "Sorrry come next year\n"
     ]
    }
   ],
   "source": [
    "# for more than two cases\n",
    "\n",
    "age=18\n",
    "if age<18:\n",
    "    print(\"Please come after {} years\".format(18-age))\n",
    "elif age==18:\n",
    "    print(\"Sorrry come next year\")\n",
    "else:\n",
    "    print(\"you are elible to vote\")"
   ]
  },
  {
   "cell_type": "code",
   "execution_count": 3,
   "metadata": {},
   "outputs": [
    {
     "name": "stdout",
     "output_type": "stream",
     "text": [
      "Please guess a number b/w 1 to 10\n",
      "Enter your guess number    :6\n",
      " please guess low\n"
     ]
    }
   ],
   "source": [
    "#Guessing game\n",
    "ans=5\n",
    "\n",
    "print(\"Please guess a number b/w 1 to 10\")\n",
    "guess=int(input(\"Enter your guess number    :\"))\n",
    "\n",
    "if guess<ans:\n",
    "    print(\" please guess higher\")\n",
    "elif guess>ans:\n",
    "    print(\" please guess low\")\n",
    "else:\n",
    "    print(\"Hurraaay Correct\")"
   ]
  },
  {
   "cell_type": "code",
   "execution_count": 4,
   "metadata": {},
   "outputs": [
    {
     "name": "stdout",
     "output_type": "stream",
     "text": [
      "Please guess a number b/w 1 to 10\n",
      "Enter your guess number    :6\n",
      " please guess low\n",
      "guess one more time5\n",
      "well done\n"
     ]
    }
   ],
   "source": [
    "# Adding one more guess\n",
    "ans=5\n",
    "\n",
    "print(\"Please guess a number b/w 1 to 10\")\n",
    "guess=int(input(\"Enter your guess number    :\"))\n",
    "\n",
    "if guess<ans:\n",
    "    print(\" please guess higher\")\n",
    "    guess=int(input(\"guess one more time\"))\n",
    "    if guess==ans:\n",
    "        print(\"well done\")\n",
    "    else:\n",
    "        print(\"you have not guessed correctly\")\n",
    "elif guess>ans:\n",
    "    print(\" please guess low\")\n",
    "    guess=int(input(\"guess one more time\"))\n",
    "    if guess==ans:       # use == for comparision/testing\n",
    "        print(\"well done\")\n",
    "    else:\n",
    "        print(\"you have not guessed correctly\")\n",
    "else:\n",
    "    print(\"Hurraaay Correct\")"
   ]
  },
  {
   "cell_type": "markdown",
   "metadata": {},
   "source": [
    "# Conditional operators"
   ]
  },
  {
   "cell_type": "code",
   "execution_count": 5,
   "metadata": {},
   "outputs": [],
   "source": [
    "# <    <=    >    >=    ==    !="
   ]
  },
  {
   "cell_type": "markdown",
   "metadata": {},
   "source": [
    "# Logical operators"
   ]
  },
  {
   "cell_type": "code",
   "execution_count": 6,
   "metadata": {},
   "outputs": [
    {
     "name": "stdout",
     "output_type": "stream",
     "text": [
      "ENter age    :55\n",
      "have a good work \n",
      "____________________________________________________________\n"
     ]
    }
   ],
   "source": [
    "# or    and   nor\n",
    "\n",
    "age=int(input(\"ENter age    :\"))\n",
    "if age>=16 and age<=65:\n",
    "    print(\"have a good work \")\n",
    "else:\n",
    "    print(\"Not eligible to work\")\n",
    "#if age<16 or age>65:\n",
    "#   print(\"Enjoy free time\")\n",
    "#Simplified \n",
    "# if 16<= age <=65\n",
    "#if age in range (16,66)\n",
    "print(\"_\"*60)"
   ]
  },
  {
   "cell_type": "markdown",
   "metadata": {},
   "source": [
    "# Boolean Expressions"
   ]
  },
  {
   "cell_type": "code",
   "execution_count": 7,
   "metadata": {},
   "outputs": [
    {
     "data": {
      "text/plain": [
       "False"
      ]
     },
     "execution_count": 7,
     "metadata": {},
     "output_type": "execute_result"
    }
   ],
   "source": [
    "# True    False\n",
    "# evaluate True Or False\n",
    "name =\"gm\"\n",
    "name==\"reddy\"\n"
   ]
  },
  {
   "cell_type": "code",
   "execution_count": 8,
   "metadata": {},
   "outputs": [
    {
     "name": "stdout",
     "output_type": "stream",
     "text": [
      "Go Swimming\n"
     ]
    }
   ],
   "source": [
    "# if day==\"saturday\" and temperature > 27 and not raining:\n",
    "#    print(\"Go Swimming\")\n",
    "# Use Parenthesis if using and or in same logic\n",
    "\n",
    "day=\"saturday\"\n",
    "temperature=30\n",
    "raining=False\n",
    "\n",
    "if day==\"saturday\" and temperature > 27 and not raining:\n",
    "    print(\"Go Swimming\")\n",
    "else:\n",
    "    print(\"learn python\")"
   ]
  },
  {
   "cell_type": "markdown",
   "metadata": {},
   "source": [
    "# Truthy Values"
   ]
  },
  {
   "cell_type": "raw",
   "metadata": {},
   "source": [
    "# Any objected can be tested for truth value , for use in an if or while condition\n",
    "# he following values are considered false:\n",
    "\n",
    "None\n",
    "False\n",
    "zero of any numeric type, for example, 0, 0L, 0.0, 0j.\n",
    "any empty sequence, for example, '', (), [].\n",
    "any empty mapping, for example, {}.\n"
   ]
  },
  {
   "cell_type": "code",
   "execution_count": 10,
   "metadata": {},
   "outputs": [
    {
     "name": "stdout",
     "output_type": "stream",
     "text": [
      "Please enter your name\n",
      "are you a man without name\n"
     ]
    }
   ],
   "source": [
    "name=input(\"Please enter your name\")\n",
    "if name:\n",
    "    print(\"hello {} !!!\".format(name))\n",
    "else:\n",
    "    print(\"are you a man without name\")"
   ]
  },
  {
   "cell_type": "markdown",
   "metadata": {},
   "source": [
    "# in and not in"
   ]
  },
  {
   "cell_type": "code",
   "execution_count": 12,
   "metadata": {},
   "outputs": [
    {
     "name": "stdout",
     "output_type": "stream",
     "text": [
      "enter your name    ;bn\n",
      "welcome bn\n"
     ]
    }
   ],
   "source": [
    "blocked=[\"gm\",\"reddy\",\"sreeja\"]\n",
    "name=input(\"enter your name    ;\")\n",
    "if name in blocked:\n",
    "    print(\"Sorry {} you are not allowed\".format(name))\n",
    "else:\n",
    "    print(\"welcome {}\".format(name))"
   ]
  },
  {
   "cell_type": "code",
   "execution_count": 13,
   "metadata": {},
   "outputs": [
    {
     "name": "stdout",
     "output_type": "stream",
     "text": [
      "goutham\n",
      "goutham\n"
     ]
    }
   ],
   "source": [
    "word2=\"GouThaM\"\n",
    "print(word2.casefold())   # for caseless matching\n",
    "print(word2.lower())"
   ]
  },
  {
   "cell_type": "markdown",
   "metadata": {},
   "source": [
    "# For loops"
   ]
  },
  {
   "cell_type": "code",
   "execution_count": 14,
   "metadata": {},
   "outputs": [
    {
     "name": "stdout",
     "output_type": "stream",
     "text": [
      "N\n",
      "o\n",
      "r\n",
      "w\n",
      "e\n",
      "g\n",
      "i\n",
      "a\n",
      "n\n",
      " \n",
      "B\n",
      "l\n",
      "u\n",
      "e\n"
     ]
    }
   ],
   "source": [
    "parrot=\"Norwegian Blue\"\n",
    "for char in parrot:\n",
    "    print(char)"
   ]
  },
  {
   "cell_type": "code",
   "execution_count": 15,
   "metadata": {},
   "outputs": [
    {
     "name": "stdout",
     "output_type": "stream",
     "text": [
      ",:: ,;\n",
      "9223372036854775807\n"
     ]
    }
   ],
   "source": [
    "number=\"9,223:372:036 854,775;807\"\n",
    "sep=\"\"\n",
    "for char in number:\n",
    "    if not char.isnumeric():\n",
    "        sep=sep+char\n",
    "print(sep)\n",
    "\n",
    "number=\"9,223:372:036 854,775;807\"\n",
    "val=\"\"\n",
    "for char in number:\n",
    "    if  char.isnumeric():\n",
    "        val=val+char\n",
    "print(val)       "
   ]
  },
  {
   "cell_type": "markdown",
   "metadata": {},
   "source": [
    "# For loops extracting values from user input"
   ]
  },
  {
   "cell_type": "code",
   "execution_count": 17,
   "metadata": {},
   "outputs": [
    {
     "name": "stdout",
     "output_type": "stream",
     "text": [
      "enter your texthga5rjkewh478945/.'d\n",
      "[5, 4, 7, 8, 9, 4, 5]\n",
      "5478945\n"
     ]
    }
   ],
   "source": [
    "string1=input(\"enter your text\")\n",
    "values=\"\"\n",
    "for char in string1:\n",
    "    if char.isnumeric():\n",
    "        values=values+char\n",
    "print([int(v) for v in values]) \n",
    "print(values)"
   ]
  },
  {
   "cell_type": "code",
   "execution_count": 20,
   "metadata": {},
   "outputs": [
    {
     "name": "stdout",
     "output_type": "stream",
     "text": [
      "['A', 'S', 'M', 'E', 'W', 'P']\n",
      "ASMEWP\n"
     ]
    }
   ],
   "source": [
    "# Extract the capital letters\n",
    "string2=\"Alright , but Sant Med Edu,Wine Public\"\n",
    "caps=\"\"\n",
    "for char in string2:\n",
    "    if char.isupper():\n",
    "        caps=caps+char\n",
    "print([c for c in caps])\n",
    "print(caps)\n",
    "        "
   ]
  },
  {
   "cell_type": "code",
   "execution_count": 22,
   "metadata": {},
   "outputs": [
    {
     "name": "stdout",
     "output_type": "stream",
     "text": [
      "['A', 'S', 'M', 'E', 'W', 'P']\n",
      "ASMEWP\n"
     ]
    }
   ],
   "source": [
    "# @ND METHOD\n",
    "string2=\"Alright , but Sant Med Edu,Wine Public\"\n",
    "caps=\"\"\n",
    "for char in string2:\n",
    "    if char in \"ABCDEFGHIJKLMNOPQRSTUVWXYZ\":\n",
    "        caps=caps+char\n",
    "print([c for c in caps])\n",
    "print(caps)"
   ]
  },
  {
   "cell_type": "markdown",
   "metadata": {},
   "source": [
    "# ITERATING OVER A RANGE"
   ]
  },
  {
   "cell_type": "code",
   "execution_count": 23,
   "metadata": {},
   "outputs": [
    {
     "name": "stdout",
     "output_type": "stream",
     "text": [
      "i is now 1\n",
      "i is now 2\n",
      "i is now 3\n",
      "i is now 4\n"
     ]
    }
   ],
   "source": [
    "\n",
    "for i in range(1,5):  # upto 5 not including 5\n",
    "    print(\"i is now {}\".format(i))"
   ]
  },
  {
   "cell_type": "code",
   "execution_count": 24,
   "metadata": {},
   "outputs": [
    {
     "name": "stdout",
     "output_type": "stream",
     "text": [
      " i is now 0\n",
      " i is now 2\n",
      " i is now 4\n",
      " i is now 6\n",
      " i is now 8\n"
     ]
    }
   ],
   "source": [
    "for i in range(0,10,2):\n",
    "    print(\" i is now {}\".format(i))"
   ]
  },
  {
   "cell_type": "markdown",
   "metadata": {},
   "source": [
    "# Nested for loops"
   ]
  },
  {
   "cell_type": "code",
   "execution_count": 28,
   "metadata": {},
   "outputs": [
    {
     "name": "stdout",
     "output_type": "stream",
     "text": [
      " 1 times 1 is 1 \n",
      " 1 times 2 is 2 \n",
      " 1 times 3 is 3 \n",
      "--------------------\n",
      " 2 times 1 is 2 \n",
      " 2 times 2 is 4 \n",
      " 2 times 3 is 6 \n",
      "--------------------\n",
      " 3 times 1 is 3 \n",
      " 3 times 2 is 6 \n",
      " 3 times 3 is 9 \n",
      "--------------------\n",
      " 4 times 1 is 4 \n",
      " 4 times 2 is 8 \n",
      " 4 times 3 is 12 \n",
      "--------------------\n"
     ]
    }
   ],
   "source": [
    "for i in range (1,5):\n",
    "    for j in range(1,4):\n",
    "        print(f\" {i} times {j} is {i*j} \")\n",
    "    print(\"-\"*20)    "
   ]
  },
  {
   "cell_type": "markdown",
   "metadata": {},
   "source": [
    "# Continue"
   ]
  },
  {
   "cell_type": "code",
   "execution_count": 30,
   "metadata": {},
   "outputs": [
    {
     "name": "stdout",
     "output_type": "stream",
     "text": [
      "buy milk\n",
      "buy pasta\n",
      "buy eggs\n",
      "buy spam\n",
      "buy bread\n",
      "buy rice\n"
     ]
    }
   ],
   "source": [
    "# list is an ordered sequence of values enclosed in square brackets\n",
    "list1=[\"milk\",\"pasta\",\"eggs\",\"spam\",\"bread\",\"rice\"]\n",
    "for item in list1:\n",
    "    print(\"buy \"+item)"
   ]
  },
  {
   "cell_type": "code",
   "execution_count": 32,
   "metadata": {},
   "outputs": [
    {
     "name": "stdout",
     "output_type": "stream",
     "text": [
      "buy milk\n",
      "buy pasta\n",
      "buy eggs\n",
      "buy bread\n",
      "buy rice\n"
     ]
    }
   ],
   "source": [
    "list1=[\"milk\",\"pasta\",\"eggs\",\"spam\",\"bread\",\"rice\"]\n",
    "for item in list1:\n",
    "    if item !=\"spam\":\n",
    "        print(\"buy \"+item)"
   ]
  },
  {
   "cell_type": "code",
   "execution_count": 34,
   "metadata": {},
   "outputs": [
    {
     "name": "stdout",
     "output_type": "stream",
     "text": [
      "Buy milk\n",
      "Buy pasta\n",
      "Buy eggs\n",
      "Buy bread\n",
      "Buy rice\n"
     ]
    }
   ],
   "source": [
    "list1=[\"milk\",\"pasta\",\"eggs\",\"spam\",\"bread\",\"spam\",\"rice\"]\n",
    "for item in list1:\n",
    "    if item ==\"spam\":   \n",
    "        continue      # skips the spam\n",
    "    print(\"Buy \"+item)    "
   ]
  },
  {
   "cell_type": "markdown",
   "metadata": {},
   "source": [
    "# Break"
   ]
  },
  {
   "cell_type": "code",
   "execution_count": 35,
   "metadata": {},
   "outputs": [
    {
     "name": "stdout",
     "output_type": "stream",
     "text": [
      "Buy milk\n",
      "Buy pasta\n",
      "Buy eggs\n"
     ]
    }
   ],
   "source": [
    "list1=[\"milk\",\"pasta\",\"eggs\",\"spam\",\"bread\",\"spam\",\"rice\"]\n",
    "for item in list1:\n",
    "    if item ==\"spam\":   \n",
    "        break      # stpos at spam\n",
    "    print(\"Buy \"+item)    "
   ]
  },
  {
   "cell_type": "code",
   "execution_count": 39,
   "metadata": {},
   "outputs": [
    {
     "name": "stdout",
     "output_type": "stream",
     "text": [
      "spam is found at 4 position\n",
      "spam is found at 7 position\n"
     ]
    }
   ],
   "source": [
    "# To find the exact position of desired item\n",
    "list1=[\"milk\",\"pasta\",\"eggs\",\"spam\",\"bread\",\"rice\",\"spam\"]\n",
    "item_to_find=\"spam\"\n",
    "found_at=None\n",
    "for i in range(0,len(list1)):\n",
    "    if list1[i]==item_to_find:\n",
    "        found_at=i\n",
    "        print(f\"{item_to_find} is found at {i+1} position\")   "
   ]
  },
  {
   "cell_type": "markdown",
   "metadata": {},
   "source": [
    "# Initialising variables and None"
   ]
  },
  {
   "cell_type": "code",
   "execution_count": 5,
   "metadata": {},
   "outputs": [
    {
     "name": "stdout",
     "output_type": "stream",
     "text": [
      "eagle is not found in list1\n"
     ]
    }
   ],
   "source": [
    "list1=[\"milk\",\"pasta\",\"eggs\",\"spam\",\"bread\",\"rice\",\"spam\"]\n",
    "item_to_find=\"eagle\"\n",
    "found_at=None\n",
    "for i in range(0,len(list1)):\n",
    "    if list1[i]==item_to_find:\n",
    "        found_at=i\n",
    "if found_at is not None:\n",
    "    print(f\"{item_to_find} is found at {i+1} position\")   \n",
    "else:\n",
    "    print(f\"{item_to_find} is not found in list1\")"
   ]
  },
  {
   "cell_type": "code",
   "execution_count": 8,
   "metadata": {},
   "outputs": [
    {
     "name": "stdout",
     "output_type": "stream",
     "text": [
      "rice is found at 5 position\n"
     ]
    }
   ],
   "source": [
    "#2nd way\n",
    "list1=[\"milk\",\"pasta\",\"eggs\",\"spam\",\"bread\",\"rice\",\"spam\"]\n",
    "item_to_find=\"rice\"\n",
    "if item_to_find in list1:\n",
    "    found_at=list1.index(item_to_find)\n",
    "if found_at is not None:\n",
    "    print(f\"{item_to_find} is found at {list1.index(item_to_find)} position\")   \n",
    "else:\n",
    "    print(f\"{item_to_find} is not found in list1\")    \n",
    "    \n"
   ]
  },
  {
   "cell_type": "markdown",
   "metadata": {},
   "source": [
    "# While Loops"
   ]
  },
  {
   "cell_type": "code",
   "execution_count": 13,
   "metadata": {},
   "outputs": [
    {
     "name": "stdout",
     "output_type": "stream",
     "text": [
      "now i is 0\n",
      "now i is 1\n",
      "now i is 2\n",
      "now i is 3\n",
      "now i is 4\n",
      "now i is 5\n",
      "now i is 6\n",
      "now i is 7\n",
      "now i is 8\n",
      "now i is 9\n"
     ]
    }
   ],
   "source": [
    "# for loop -to iterate through iterable\n",
    "# while loop -to keep looping as long as the condition is True and stop when it becomes False\n",
    "# while <condition>:\n",
    "i=0\n",
    "while i<10:\n",
    "    print(\"now i is {}\".format(i))\n",
    "    i +=1"
   ]
  },
  {
   "cell_type": "code",
   "execution_count": 14,
   "metadata": {},
   "outputs": [
    {
     "name": "stdout",
     "output_type": "stream",
     "text": [
      "please choose direction to exit    :up\n",
      "please choose direction to exit    :east\n",
      "you got out\n"
     ]
    }
   ],
   "source": [
    "# we have to initialise before while loop\n",
    "# At one place condition should become false else it will loops infinetly\n",
    "exits=[\"north\",\"south\",\"east\",\"west\"]\n",
    "\n",
    "way=\"\"\n",
    "\n",
    "while way not in exits:\n",
    "    way=input(\"please choose direction to exit    :\")\n",
    "print(\"you got out\")  "
   ]
  },
  {
   "cell_type": "markdown",
   "metadata": {},
   "source": [
    "# Break in While loop"
   ]
  },
  {
   "cell_type": "code",
   "execution_count": 15,
   "metadata": {},
   "outputs": [
    {
     "name": "stdout",
     "output_type": "stream",
     "text": [
      "please choose direction to exit    :up\n",
      "please choose direction to exit    :quit\n",
      "game over\n",
      "you got out\n"
     ]
    }
   ],
   "source": [
    " exits=[\"north\",\"south\",\"east\",\"west\"]\n",
    "\n",
    " way=\"\"\n",
    "\n",
    " while way not in exits:\n",
    "     way=input(\"please choose direction to exit    :\")\n",
    "     if way.casefold()==\"quit\":\n",
    "         print(\"game over\")\n",
    "         break\n",
    " print(\"you got out\")    "
   ]
  },
  {
   "cell_type": "markdown",
   "metadata": {},
   "source": [
    "# Excercise on continue and Break"
   ]
  },
  {
   "cell_type": "code",
   "execution_count": 16,
   "metadata": {},
   "outputs": [
    {
     "name": "stdout",
     "output_type": "stream",
     "text": [
      "0\n",
      "7\n",
      "14\n",
      "21\n",
      "28\n",
      "35\n",
      "42\n",
      "49\n",
      "56\n",
      "63\n",
      "70\n",
      "77\n"
     ]
    }
   ],
   "source": [
    "# in Range(0,100,7) print upto divisible by 11 comes\n",
    "for i in range (0,100,7):\n",
    "    print(i)\n",
    "    if i>0 and i%11==0:\n",
    "        break"
   ]
  },
  {
   "cell_type": "code",
   "execution_count": 17,
   "metadata": {},
   "outputs": [
    {
     "name": "stdout",
     "output_type": "stream",
     "text": [
      "1\n",
      "2\n",
      "4\n",
      "7\n",
      "8\n",
      "11\n",
      "13\n",
      "14\n",
      "16\n",
      "17\n",
      "19\n"
     ]
    }
   ],
   "source": [
    "# print all numbers from 0 to 20 that arent divisible by either 3 or 5(excluding zero)\n",
    "for num in range (0,20):\n",
    "    if (num %3==0 or num %5==0):\n",
    "       continue\n",
    "    print(num)"
   ]
  },
  {
   "cell_type": "code",
   "execution_count": 18,
   "metadata": {},
   "outputs": [
    {
     "name": "stdout",
     "output_type": "stream",
     "text": [
      "1\n",
      "2\n",
      "4\n",
      "7\n",
      "8\n",
      "11\n",
      "13\n",
      "14\n",
      "16\n",
      "17\n",
      "19\n"
     ]
    }
   ],
   "source": [
    "# without continue\n",
    "for i in range(21):\n",
    "    if i%3!=0 and i%5!=0:\n",
    "        print(i)"
   ]
  },
  {
   "cell_type": "markdown",
   "metadata": {},
   "source": [
    "# The random module and import"
   ]
  },
  {
   "cell_type": "code",
   "execution_count": 1,
   "metadata": {},
   "outputs": [
    {
     "name": "stdout",
     "output_type": "stream",
     "text": [
      "6\n",
      "Guess any number below 10\n",
      "ENter your Guess no 1 below   :5\n",
      "guess highin attempt no 2\n",
      "Guess any number below 10\n",
      "ENter your Guess no 2 below   :8\n",
      "guess lower in attempt no 3\n",
      "Guess any number below 10\n",
      "ENter your Guess no 3 below   :7\n",
      "guess lower in attempt no 4\n",
      "Guess any number below 10\n",
      "ENter your Guess no 4 below   :6\n",
      "you got it at attempt no 4\n"
     ]
    }
   ],
   "source": [
    "# Random module\n",
    "\n",
    "import random\n",
    "highest=10\n",
    "ans=random.randint(1,highest)\n",
    "print(ans)  # Remove after testing\n",
    "guess=200\n",
    "attempt=0\n",
    "while ans!=guess:\n",
    "    print(\"Guess any number below {}\".format(highest))\n",
    "    guess= int(input(f\"ENter your Guess no {attempt+1} below   :\"))\n",
    "    attempt+=1\n",
    "    \n",
    "    \n",
    "    if guess==ans:\n",
    "        print(f\"you got it at attempt no {attempt}\")\n",
    "    else:\n",
    "        if guess>ans:\n",
    "            print(f\"guess lower in attempt no {attempt+1}\")\n",
    "        else:\n",
    "            print(f\"guess highin attempt no {attempt+1}\")\n",
    "    \n",
    "    if attempt>=5:\n",
    "        print(\"sorry you exhausted all 5 attempts\")\n",
    "        break\n",
    "    if guess==0:\n",
    "        print(\"you exted the game\")\n",
    "        break\n"
   ]
  },
  {
   "cell_type": "markdown",
   "metadata": {},
   "source": [
    "# Binary Search"
   ]
  },
  {
   "cell_type": "markdown",
   "metadata": {},
   "source": [
    "The Binary search algorithm is the most efficient way of finding an item in ordered list\n"
   ]
  },
  {
   "cell_type": "code",
   "execution_count": 2,
   "metadata": {},
   "outputs": [
    {
     "name": "stdout",
     "output_type": "stream",
     "text": [
      "Please think any number between 1 and 1000\n",
      "press ENTER to start\n",
      "computer's guess no 1 is 500\n",
      "computer's guess number 1 is 500 Should i guess higher or lower ? Enter h or l   or c :H\n",
      "computer's guess no 2 is 750\n",
      "computer's guess number 2 is 750 Should i guess higher or lower ? Enter h or l   or c :H\n",
      "computer's guess no 3 is 875\n",
      "computer's guess number 3 is 875 Should i guess higher or lower ? Enter h or l   or c :C\n",
      "hurraay guessed correctly on guess number 3 \n"
     ]
    }
   ],
   "source": [
    "#Hi lo game\n",
    "# Hi lo game in 10 guess becoz 2^10=1024\n",
    "low=1\n",
    "high=1000\n",
    "\n",
    "print(f\"Please think any number between {low} and {high}\")\n",
    "\n",
    "input(\"press ENTER to start\")\n",
    "num=1\n",
    "guess=1\n",
    "while True:\n",
    "    guess=low+(high-low)//2\n",
    "    print(f\"computer's guess no {num} is {guess}\" )\n",
    "    h_l=input(f\"computer's guess number {num} is {guess} Should i guess higher or lower ? Enter h or l   or c :\").casefold()\n",
    "    if h_l==\"h\":\n",
    "        low=guess\n",
    "        num+=1\n",
    "    elif h_l==\"l\":\n",
    "        high=guess\n",
    "        num+=1\n",
    "    else:\n",
    "        print(f\"hurraay guessed correctly on guess number {num} \")\n",
    "        break\n",
    "        "
   ]
  },
  {
   "cell_type": "markdown",
   "metadata": {},
   "source": [
    "# Augmented Assignment"
   ]
  },
  {
   "cell_type": "code",
   "execution_count": 3,
   "metadata": {},
   "outputs": [
    {
     "name": "stdout",
     "output_type": "stream",
     "text": [
      "24\n",
      "20\n",
      "100\n",
      "25\n",
      "5.0\n",
      "25.0\n",
      "0.0\n"
     ]
    }
   ],
   "source": [
    "#i=i+1\n",
    "#i+=1\n",
    "x=23\n",
    "x+=1\n",
    "print(x)\n",
    "x-=4\n",
    "print(x)\n",
    "x*=5\n",
    "print(x)\n",
    "x//=4\n",
    "print(x)\n",
    "x/=5\n",
    "print(x)\n",
    "x**=2\n",
    "print(x)\n",
    "x%=5\n",
    "print(x)\n"
   ]
  },
  {
   "cell_type": "markdown",
   "metadata": {},
   "source": [
    "# Pep 8 Python style guide"
   ]
  },
  {
   "cell_type": "code",
   "execution_count": 4,
   "metadata": {},
   "outputs": [],
   "source": [
    "#Python enhancement proposal\n"
   ]
  },
  {
   "cell_type": "markdown",
   "metadata": {},
   "source": [
    "# Else in loop"
   ]
  },
  {
   "cell_type": "code",
   "execution_count": 5,
   "metadata": {},
   "outputs": [
    {
     "name": "stdout",
     "output_type": "stream",
     "text": [
      "all those numbers are fine\n"
     ]
    }
   ],
   "source": [
    "numbers=[1,45,31,12,60]\n",
    "for num in numbers:\n",
    "    if num %8==0:\n",
    "        print(\"the numbers are unacceptable\")\n",
    "        break\n",
    "else:\n",
    "    print(\"all those numbers are fine\") # here else is associated with for and triggers when loop terminates normally"
   ]
  },
  {
   "cell_type": "markdown",
   "metadata": {},
   "source": [
    "# here else is associated with for and triggers when loop terminates normally"
   ]
  },
  {
   "cell_type": "code",
   "execution_count": 8,
   "metadata": {},
   "outputs": [
    {
     "name": "stdout",
     "output_type": "stream",
     "text": [
      "Please think any number between 1 and 1000\n",
      "press ENTER to start\n",
      "computer's guess no 1 is 500\n",
      "computer's guess number 1 is 500 Should i guess higher or lower ? Enter h or l   or c :l\n",
      "computer's guess no 2 is 250\n",
      "computer's guess number 2 is 250 Should i guess higher or lower ? Enter h or l   or c :l\n",
      "computer's guess no 3 is 125\n",
      "computer's guess number 3 is 125 Should i guess higher or lower ? Enter h or l   or c :l\n",
      "computer's guess no 4 is 62\n",
      "computer's guess number 4 is 62 Should i guess higher or lower ? Enter h or l   or c :h\n",
      "computer's guess no 5 is 93\n",
      "computer's guess number 5 is 93 Should i guess higher or lower ? Enter h or l   or c :h\n",
      "computer's guess no 6 is 109\n",
      "computer's guess number 6 is 109 Should i guess higher or lower ? Enter h or l   or c :l\n",
      "computer's guess no 7 is 101\n",
      "computer's guess number 7 is 101 Should i guess higher or lower ? Enter h or l   or c :l\n",
      "computer's guess no 8 is 97\n",
      "computer's guess number 8 is 97 Should i guess higher or lower ? Enter h or l   or c :h\n",
      "computer's guess no 9 is 99\n",
      "computer's guess number 9 is 99 Should i guess higher or lower ? Enter h or l   or c :h\n",
      "hurraay guessed correctly on guess number 10\n"
     ]
    }
   ],
   "source": [
    "#Hi lo game\n",
    "# Hi lo game in 10 guess becoz 2^10=1024\n",
    "low=1\n",
    "high=1000\n",
    "\n",
    "print(f\"Please think any number between {low} and {high}\")\n",
    "\n",
    "input(\"press ENTER to start\")\n",
    "num=1\n",
    "guess=1\n",
    "while low!=high:\n",
    "    guess=low+(high-low)//2\n",
    "    print(f\"computer's guess no {num} is {guess}\" )\n",
    "    h_l=input(f\"computer's guess number {num} is {guess} Should i guess higher or lower ? Enter h or l   or c :\").casefold()\n",
    "    if h_l==\"h\":\n",
    "        low=guess+1\n",
    "        num+=1\n",
    "    elif h_l==\"l\":\n",
    "        high=guess-1\n",
    "        num+=1\n",
    "    else:\n",
    "        print(f\"hurraay guessed correctly on guess number {num} \")\n",
    "        break\n",
    "else:\n",
    "    print(f\"hurraay guessed correctly on guess number {num}\" )"
   ]
  },
  {
   "cell_type": "code",
   "execution_count": null,
   "metadata": {},
   "outputs": [],
   "source": []
  }
 ],
 "metadata": {
  "kernelspec": {
   "display_name": "Python 3",
   "language": "python",
   "name": "python3"
  },
  "language_info": {
   "codemirror_mode": {
    "name": "ipython",
    "version": 3
   },
   "file_extension": ".py",
   "mimetype": "text/x-python",
   "name": "python",
   "nbconvert_exporter": "python",
   "pygments_lexer": "ipython3",
   "version": "3.7.6"
  }
 },
 "nbformat": 4,
 "nbformat_minor": 4
}
